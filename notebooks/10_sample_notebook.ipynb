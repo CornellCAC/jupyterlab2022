{
 "cells": [
  {
   "cell_type": "markdown",
   "id": "10b52380-c60c-49aa-8561-83298b9bf859",
   "metadata": {},
   "source": [
    "# Sample Notebook"
   ]
  },
  {
   "cell_type": "markdown",
   "id": "ae452e67-3378-463d-84b6-c94728751271",
   "metadata": {},
   "source": [
    "## Setup\n",
    "\n",
    "### Imports\n",
    "Put the import statements at the top so it is easy for your readers to know what they must install to use your notebook."
   ]
  },
  {
   "cell_type": "code",
   "execution_count": 12,
   "id": "f3f23b6f-d679-41b8-aa26-45ab812e6ba2",
   "metadata": {},
   "outputs": [],
   "source": [
    "import pandas as pd\n",
    "import plotnine as gg"
   ]
  },
  {
   "cell_type": "code",
   "execution_count": 13,
   "id": "b982b1e0-a71d-4960-8217-73bc417ab799",
   "metadata": {},
   "outputs": [],
   "source": [
    "from tqdm.notebook import tqdm"
   ]
  },
  {
   "cell_type": "markdown",
   "id": "81871437-4501-4126-86df-6380b6bafb08",
   "metadata": {},
   "source": [
    "### Configurations\n",
    "\n",
    "For instance, how to show cell output. "
   ]
  },
  {
   "cell_type": "code",
   "execution_count": 14,
   "id": "11b8bda7-9137-4bc6-ae10-f906a0e758e1",
   "metadata": {},
   "outputs": [
    {
     "data": {
      "text/plain": [
       "45"
      ]
     },
     "execution_count": 14,
     "metadata": {},
     "output_type": "execute_result"
    },
    {
     "name": "stdout",
     "output_type": "stream",
     "text": [
      "45\n"
     ]
    },
    {
     "data": {
      "text/plain": [
       "4950"
      ]
     },
     "execution_count": 14,
     "metadata": {},
     "output_type": "execute_result"
    }
   ],
   "source": [
    "# Example with default 'last'\n",
    "sum(range(10)) #no\n",
    "\n",
    "print(sum(range(10))) #yes\n",
    "\n",
    "sum(range(100)) #yes"
   ]
  },
  {
   "cell_type": "code",
   "execution_count": 15,
   "id": "4f6a25f1-8549-45dd-8499-3b1a3762edee",
   "metadata": {},
   "outputs": [],
   "source": [
    "from IPython.core.interactiveshell import InteractiveShell\n",
    "InteractiveShell.ast_node_interactivity = \"all\"  \n",
    "\n",
    "#Options: 'all', 'last', 'last_expr', 'none', 'last_expr_or_assign'"
   ]
  },
  {
   "cell_type": "code",
   "execution_count": 16,
   "id": "6bcbd14f-3e1c-4202-93de-dc29e1884b36",
   "metadata": {},
   "outputs": [
    {
     "data": {
      "text/plain": [
       "45"
      ]
     },
     "execution_count": 16,
     "metadata": {},
     "output_type": "execute_result"
    },
    {
     "name": "stdout",
     "output_type": "stream",
     "text": [
      "45\n"
     ]
    },
    {
     "data": {
      "text/plain": [
       "4950"
      ]
     },
     "execution_count": 16,
     "metadata": {},
     "output_type": "execute_result"
    }
   ],
   "source": [
    "# Example v2 with 'all'\n",
    "sum(range(10))        #yes\n",
    "print(sum(range(10))) #yes\n",
    "sum(range(100))       #yes"
   ]
  },
  {
   "cell_type": "code",
   "execution_count": null,
   "id": "5bbc3457-1952-4242-a4d4-af21c7ac6078",
   "metadata": {},
   "outputs": [],
   "source": []
  },
  {
   "cell_type": "markdown",
   "id": "39d05879-affc-4e63-ab52-ea0386b5ae11",
   "metadata": {},
   "source": [
    "## Working with data"
   ]
  },
  {
   "cell_type": "markdown",
   "id": "6011dd51-5958-424a-9e25-19e08f8c829b",
   "metadata": {},
   "source": [
    "### Loading Data"
   ]
  },
  {
   "cell_type": "code",
   "execution_count": 17,
   "id": "0082e023-72f9-4bb8-b9ff-3b3920de2657",
   "metadata": {},
   "outputs": [],
   "source": [
    "df = pd.read_csv(\"../data/registration_times.csv\")"
   ]
  },
  {
   "cell_type": "code",
   "execution_count": 18,
   "id": "c6f38446-f2c5-4a1f-8e48-f28f54edce79",
   "metadata": {},
   "outputs": [
    {
     "data": {
      "text/html": [
       "<div>\n",
       "<style scoped>\n",
       "    .dataframe tbody tr th:only-of-type {\n",
       "        vertical-align: middle;\n",
       "    }\n",
       "\n",
       "    .dataframe tbody tr th {\n",
       "        vertical-align: top;\n",
       "    }\n",
       "\n",
       "    .dataframe thead th {\n",
       "        text-align: right;\n",
       "    }\n",
       "</style>\n",
       "<table border=\"1\" class=\"dataframe\">\n",
       "  <thead>\n",
       "    <tr style=\"text-align: right;\">\n",
       "      <th></th>\n",
       "      <th>Registration Time</th>\n",
       "      <th>org</th>\n",
       "    </tr>\n",
       "  </thead>\n",
       "  <tbody>\n",
       "    <tr>\n",
       "      <th>0</th>\n",
       "      <td>2022-10-19 13:43:15</td>\n",
       "      <td>cu</td>\n",
       "    </tr>\n",
       "    <tr>\n",
       "      <th>1</th>\n",
       "      <td>2022-10-19 18:53:05</td>\n",
       "      <td>cu</td>\n",
       "    </tr>\n",
       "    <tr>\n",
       "      <th>2</th>\n",
       "      <td>2022-10-27 09:56:39</td>\n",
       "      <td>cu</td>\n",
       "    </tr>\n",
       "    <tr>\n",
       "      <th>3</th>\n",
       "      <td>2022-10-25 13:45:37</td>\n",
       "      <td>cu</td>\n",
       "    </tr>\n",
       "    <tr>\n",
       "      <th>4</th>\n",
       "      <td>2022-10-20 09:37:27</td>\n",
       "      <td>cu</td>\n",
       "    </tr>\n",
       "  </tbody>\n",
       "</table>\n",
       "</div>"
      ],
      "text/plain": [
       "     Registration Time org\n",
       "0  2022-10-19 13:43:15  cu\n",
       "1  2022-10-19 18:53:05  cu\n",
       "2  2022-10-27 09:56:39  cu\n",
       "3  2022-10-25 13:45:37  cu\n",
       "4  2022-10-20 09:37:27  cu"
      ]
     },
     "execution_count": 18,
     "metadata": {},
     "output_type": "execute_result"
    },
    {
     "data": {
      "text/plain": [
       "Registration Time    object\n",
       "org                  object\n",
       "dtype: object"
      ]
     },
     "execution_count": 18,
     "metadata": {},
     "output_type": "execute_result"
    }
   ],
   "source": [
    "df.head()\n",
    "df.dtypes  #not the types we want!"
   ]
  },
  {
   "cell_type": "code",
   "execution_count": null,
   "id": "8be992a8-e33f-4bd0-89a1-b3d58910e042",
   "metadata": {},
   "outputs": [],
   "source": []
  },
  {
   "cell_type": "markdown",
   "id": "a73ceabb-76db-4e56-b1eb-49f538331265",
   "metadata": {
    "tags": []
   },
   "source": [
    "### Aside: Editor Features"
   ]
  },
  {
   "cell_type": "code",
   "execution_count": 19,
   "id": "7929a49c-e616-4a63-be32-0ba13492800e",
   "metadata": {},
   "outputs": [
    {
     "ename": "AttributeError",
     "evalue": "module 'pandas' has no attribute 'to_'",
     "output_type": "error",
     "traceback": [
      "\u001b[0;31m---------------------------------------------------------------------------\u001b[0m",
      "\u001b[0;31mAttributeError\u001b[0m                            Traceback (most recent call last)",
      "Cell \u001b[0;32mIn [19], line 2\u001b[0m\n\u001b[1;32m      1\u001b[0m \u001b[38;5;66;03m#demonstrate completion\u001b[39;00m\n\u001b[0;32m----> 2\u001b[0m \u001b[43mpd\u001b[49m\u001b[38;5;241;43m.\u001b[39;49m\u001b[43mto_\u001b[49m   \u001b[38;5;66;03m#(tab)\u001b[39;00m\n",
      "File \u001b[0;32m~/miniconda3/envs/scu/lib/python3.11/site-packages/pandas/__init__.py:264\u001b[0m, in \u001b[0;36m__getattr__\u001b[0;34m(name)\u001b[0m\n\u001b[1;32m    260\u001b[0m     \u001b[38;5;28;01mfrom\u001b[39;00m \u001b[38;5;21;01mpandas\u001b[39;00m\u001b[38;5;21;01m.\u001b[39;00m\u001b[38;5;21;01mcore\u001b[39;00m\u001b[38;5;21;01m.\u001b[39;00m\u001b[38;5;21;01marrays\u001b[39;00m\u001b[38;5;21;01m.\u001b[39;00m\u001b[38;5;21;01msparse\u001b[39;00m \u001b[38;5;28;01mimport\u001b[39;00m SparseArray \u001b[38;5;28;01mas\u001b[39;00m _SparseArray\n\u001b[1;32m    262\u001b[0m     \u001b[38;5;28;01mreturn\u001b[39;00m _SparseArray\n\u001b[0;32m--> 264\u001b[0m \u001b[38;5;28;01mraise\u001b[39;00m \u001b[38;5;167;01mAttributeError\u001b[39;00m(\u001b[38;5;124mf\u001b[39m\u001b[38;5;124m\"\u001b[39m\u001b[38;5;124mmodule \u001b[39m\u001b[38;5;124m'\u001b[39m\u001b[38;5;124mpandas\u001b[39m\u001b[38;5;124m'\u001b[39m\u001b[38;5;124m has no attribute \u001b[39m\u001b[38;5;124m'\u001b[39m\u001b[38;5;132;01m{\u001b[39;00mname\u001b[38;5;132;01m}\u001b[39;00m\u001b[38;5;124m'\u001b[39m\u001b[38;5;124m\"\u001b[39m)\n",
      "\u001b[0;31mAttributeError\u001b[0m: module 'pandas' has no attribute 'to_'"
     ]
    }
   ],
   "source": [
    "#demonstrate completion\n",
    "pd.to_   #(tab)"
   ]
  },
  {
   "cell_type": "code",
   "execution_count": null,
   "id": "75960eec-6d5b-42ae-8637-35966e7abebd",
   "metadata": {
    "tags": []
   },
   "outputs": [],
   "source": [
    "#demonstate help\n",
    "pd.to_datetime #(shift-tab)"
   ]
  },
  {
   "cell_type": "code",
   "execution_count": null,
   "id": "657e9d0e-241d-4078-ac62-46bd6f6e5a09",
   "metadata": {},
   "outputs": [],
   "source": [
    "#contextual help in Help > Show Contextual Help"
   ]
  },
  {
   "cell_type": "markdown",
   "id": "d981a717-f166-46b2-8efc-67e6e350dfa5",
   "metadata": {},
   "source": [
    "### Prep Data"
   ]
  },
  {
   "cell_type": "code",
   "execution_count": null,
   "id": "84d466ef-a834-4bd5-b4e0-e39e161389be",
   "metadata": {},
   "outputs": [],
   "source": [
    "\n",
    "df['Registration_Time'] = pd.to_datetime(df['Registration Time'])\n",
    "df['org'] = pd.Categorical(df.org, categories=['wcm', 'cu', 'other'])\n",
    "df.dtypes"
   ]
  },
  {
   "cell_type": "code",
   "execution_count": null,
   "id": "a6b4e9cc-b9ea-4171-94e2-55936cb6d634",
   "metadata": {},
   "outputs": [],
   "source": [
    "df.describe(include='all', datetime_is_numeric=True)"
   ]
  },
  {
   "cell_type": "markdown",
   "id": "879e32cd-34bd-456a-8ad9-436abbe3fee8",
   "metadata": {},
   "source": [
    "### Plot data"
   ]
  },
  {
   "cell_type": "code",
   "execution_count": null,
   "id": "9895168f-fb81-4ae7-bcad-b40b28efdc84",
   "metadata": {},
   "outputs": [],
   "source": [
    "start_t =  pd.to_datetime('2022-10-18 13:00')\n",
    "stop_t = pd.to_datetime('2022-10-20 13:00')\n",
    "\n",
    "#pandas to manipulate data\n",
    "plot_df = (\n",
    "    df\n",
    "    .sort_values(\"Registration_Time\")\n",
    "    .query(\"(Registration_Time >= @start_t) & (Registration_Time <= @stop_t)\")\n",
    ")\n",
    "\n",
    "# plotnine to plot (using grammar of graphics like ggplot2)\n",
    "(\n",
    "    gg.ggplot(plot_df, gg.aes(x='Registration_Time', fill='org'))\n",
    "    + gg.geom_histogram(binwidth=4/24, position='stack', color='black', show_legend=False)\n",
    "    + gg.facet_wrap('org')\n",
    "    + gg.theme_bw()\n",
    "    + gg.theme(figure_size=(8,4))\n",
    "    + gg.theme(axis_text_x=gg.element_text(angle=30, hjust=1))\n",
    "    + gg.xlab(\"Time\")\n",
    "    + gg.ylab(\"Registrations\") \n",
    "    + gg.ggtitle(\"Registrations for R workshop in first 48 hours\")\n",
    ")"
   ]
  },
  {
   "cell_type": "code",
   "execution_count": null,
   "id": "08700f27-d61b-46f4-9654-52fe2dacab93",
   "metadata": {},
   "outputs": [],
   "source": [
    "## Show save, download, export"
   ]
  }
 ],
 "metadata": {
  "kernelspec": {
   "display_name": "Python 3 (ipykernel)",
   "language": "python",
   "name": "python3"
  },
  "language_info": {
   "codemirror_mode": {
    "name": "ipython",
    "version": 3
   },
   "file_extension": ".py",
   "mimetype": "text/x-python",
   "name": "python",
   "nbconvert_exporter": "python",
   "pygments_lexer": "ipython3",
   "version": "3.11.0"
  }
 },
 "nbformat": 4,
 "nbformat_minor": 5
}
