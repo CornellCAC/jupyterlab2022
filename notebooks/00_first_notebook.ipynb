{
 "cells": [
  {
   "cell_type": "markdown",
   "id": "8a2c93ae-a5e9-44c6-842c-f4c2627e8aa5",
   "metadata": {},
   "source": [
    "# Jupyter Notebook Document"
   ]
  },
  {
   "cell_type": "markdown",
   "id": "5dd2d160-4809-4d2c-b39e-ff069f50162e",
   "metadata": {},
   "source": [
    "## *Literate analysis* in Jupyter Notebook\n",
    "\n",
    "In *literate analysis*, **documentation**, **specification**, **explanation**, **interpretation,** and **code** co-exist in a single document that presents the analysis process in a narrative format.\n",
    "\n",
    "In contrast to scripts, where code is the default kind of content and everything else must be shoe-horned into comments, notebooks are based on **cells**. \n",
    "\n",
    "**Cells can be:**\n",
    "\n",
    "- *Markdown* formatted text cells\n",
    "- *Code* cells (python code is default in python notebooks but others are possible)\n",
    "- *Raw*, unformatted text\n"
   ]
  },
  {
   "cell_type": "markdown",
   "id": "404a5417-dc7e-4d8a-b7c3-e2449c837de9",
   "metadata": {},
   "source": [
    "### Code Cells\n",
    "\n",
    "Code and results appear in specially designated content blocks.\n",
    "Execute a cell with <kbd>shift</kbd> + <kbd>return</kbd> or use the <kbd>&#9654;</kbd> button in the toolbar."
   ]
  },
  {
   "cell_type": "code",
   "execution_count": 11,
   "id": "3523a4d4-e992-4a0e-b7de-976bf5812f1b",
   "metadata": {},
   "outputs": [
    {
     "data": {
      "text/plain": [
       "4"
      ]
     },
     "execution_count": 11,
     "metadata": {},
     "output_type": "execute_result"
    }
   ],
   "source": [
    "2 + 2 "
   ]
  },
  {
   "cell_type": "markdown",
   "id": "6e053b80-9658-44ff-b050-49086aabcd08",
   "metadata": {
    "tags": []
   },
   "source": [
    "### Markdown Cells\n",
    "Markdown cells support a range of formatting options via [Markdown](https://daringfireball.net/projects/markdown/) and html5\n",
    "\n",
    "- *italics* \n",
    "- **bold**\n",
    "- `code`\n",
    "- [links](https://jupyterlab.readthedocs.io/)\n",
    "- Inline LaTeX equations: $E = mc^{2}$\n",
    "\n",
    "\n",
    "\\begin{equation}\n",
    "e^x=\\sum_{i=0}^\\infty \\frac{1}{i!}x^i\n",
    "\\end{equation}"
   ]
  },
  {
   "cell_type": "markdown",
   "id": "02fcd57d-2475-4665-9a85-d3f7e7587fb7",
   "metadata": {},
   "source": [
    "### Raw Cells\n",
    "\n",
    "Raw cells show their contents. For example, the raw cell below shows the raw markdown from the cell above. "
   ]
  },
  {
   "cell_type": "raw",
   "id": "d15fb857-95b4-4af2-af24-52cf374be398",
   "metadata": {},
   "source": [
    "- *italics* \n",
    "- **bold**\n",
    "- `code`\n",
    "- [links](https://jupyterlab.readthedocs.io/)\n",
    "- Inline LaTeX equations: $E = mc^{2}$\n",
    "\n",
    "\\begin{equation}\n",
    "e^x=\\sum_{i=0}^\\infty \\frac{1}{i!}x^i\n",
    "\\end{equation}"
   ]
  },
  {
   "cell_type": "markdown",
   "id": "a86ef896-2912-4130-b810-9d3d29251354",
   "metadata": {},
   "source": [
    "## Hierarchical Organization\n",
    "\n",
    "Markdown supports six levels of headers to organize your document. Headers are text preceded by one to six hash symbols. The more hash symbols, the lower the level. \n",
    "\n",
    "The outline pane on the left side shows the document outline and permits quick navigation. \n"
   ]
  },
  {
   "cell_type": "raw",
   "id": "7c99f129-3e7e-44cb-a8fe-536db22f93b8",
   "metadata": {
    "lines_to_next_cell": 0
   },
   "source": [
    "```\n",
    "# H1 heading (top level header)\n",
    "## H2\n",
    "### H3\n",
    "#### H4\n",
    "##### H5\n",
    "###### H6 (deepest level header)\n",
    "```"
   ]
  },
  {
   "cell_type": "code",
   "execution_count": null,
   "id": "3a3f92ec-41f0-405d-bd07-25498889b1c4",
   "metadata": {},
   "outputs": [],
   "source": []
  },
  {
   "cell_type": "code",
   "execution_count": null,
   "id": "96a251f3-cddc-430b-a757-573ae41a2911",
   "metadata": {
    "lines_to_next_cell": 2
   },
   "outputs": [],
   "source": []
  },
  {
   "cell_type": "code",
   "execution_count": 12,
   "id": "826f9d23-705d-4b20-b9c8-1852b2642716",
   "metadata": {
    "lines_to_next_cell": 0
   },
   "outputs": [],
   "source": [
    "# scroll down #"
   ]
  },
  {
   "cell_type": "code",
   "execution_count": null,
   "id": "d55b2b5f-5de1-4d49-aa15-c9d69e5da186",
   "metadata": {},
   "outputs": [],
   "source": []
  },
  {
   "cell_type": "code",
   "execution_count": null,
   "id": "6336340e-2be1-4caa-a15f-14b515dbd195",
   "metadata": {},
   "outputs": [],
   "source": []
  },
  {
   "cell_type": "code",
   "execution_count": null,
   "id": "a6634442-2534-41b9-a2a1-6c8a7784d50f",
   "metadata": {
    "lines_to_next_cell": 2
   },
   "outputs": [],
   "source": []
  },
  {
   "cell_type": "markdown",
   "id": "2e3fec18-d609-4fdd-b587-be9386464aa2",
   "metadata": {},
   "source": [
    "### Heading Anchors"
   ]
  },
  {
   "cell_type": "markdown",
   "id": "74531f3e-8777-44d2-86ce-d8b5a5252a78",
   "metadata": {},
   "source": [
    "[Code Cells](#Code-Cells)\n",
    "\n",
    "`[Code Cells](#Code-Cells)`"
   ]
  },
  {
   "cell_type": "markdown",
   "id": "97567cc0-bd68-4b3c-ab53-93e5b8c5874c",
   "metadata": {},
   "source": [
    "---"
   ]
  },
  {
   "cell_type": "markdown",
   "id": "b40ba57f-8ad2-4271-9d3d-c2f091c1a7b6",
   "metadata": {
    "tags": []
   },
   "source": [
    "# Jupyter Interface\n",
    "\n",
    "## Panels\n",
    "\n",
    "1. File browser\n",
    "2. Active kernel list\n",
    "3. Outline view\n",
    "4. Extensions\n",
    "5. Inspector\n",
    "6. Debug\n",
    "\n",
    "## Menus\n",
    "\n",
    "- View > Activate Command Palette\n",
    "- Edit > Split / Merge Cells\n",
    "\n",
    "## Documents\n",
    "\n",
    "1. Notebooks\n",
    "2. Consoles\n",
    "3. Terminals (to underlying OS)"
   ]
  },
  {
   "cell_type": "markdown",
   "id": "2564f6fe-b7e9-4094-b95e-09ab71b74474",
   "metadata": {},
   "source": [
    "## Editing Notebooks"
   ]
  },
  {
   "cell_type": "markdown",
   "id": "2a2e4879-878f-4267-87b0-6fcacb9f3540",
   "metadata": {},
   "source": [
    "### Re-order Cells\n"
   ]
  },
  {
   "cell_type": "markdown",
   "id": "bdd15eef-c2ca-4e72-b615-9bbf2d07ba37",
   "metadata": {
    "tags": []
   },
   "source": [
    "#### <span style=\"color:red\"> Move me! </span>"
   ]
  },
  {
   "cell_type": "markdown",
   "id": "fa6919a2-da1c-4d71-a057-947f79935540",
   "metadata": {},
   "source": [
    "### Multiple Cursors"
   ]
  },
  {
   "cell_type": "markdown",
   "id": "59b6099f-ee90-4b6d-9b84-6cef39705ca2",
   "metadata": {},
   "source": [
    "Sometimes, you need to edit several places at once. Press command (macOS) or alt (Windows) and click to place additional cursors. "
   ]
  },
  {
   "cell_type": "code",
   "execution_count": 13,
   "id": "4693846f-bfa9-4e8e-b424-52ce45505cc2",
   "metadata": {
    "lines_to_next_cell": 2
   },
   "outputs": [
    {
     "ename": "NameError",
     "evalue": "name 'dd' is not defined",
     "output_type": "error",
     "traceback": [
      "\u001b[0;31m---------------------------------------------------------------------------\u001b[0m",
      "\u001b[0;31mNameError\u001b[0m                                 Traceback (most recent call last)",
      "Cell \u001b[0;32mIn [13], line 2\u001b[0m\n\u001b[1;32m      1\u001b[0m \u001b[38;5;66;03m# Change the 4 \"dd\"s to \"gg\"\u001b[39;00m\n\u001b[0;32m----> 2\u001b[0m \u001b[38;5;241m+\u001b[39m \u001b[43mdd\u001b[49m\u001b[38;5;241m.\u001b[39mtheme_bw()\n\u001b[1;32m      3\u001b[0m \u001b[38;5;241m+\u001b[39m dd\u001b[38;5;241m.\u001b[39mtheme(figure_size\u001b[38;5;241m=\u001b[39m(\u001b[38;5;241m10\u001b[39m,\u001b[38;5;241m6\u001b[39m))\n\u001b[1;32m      4\u001b[0m \u001b[38;5;241m+\u001b[39m dd\u001b[38;5;241m.\u001b[39mtheme(axis_text_x\u001b[38;5;241m=\u001b[39mdd\u001b[38;5;241m.\u001b[39melement_text(angle\u001b[38;5;241m=\u001b[39m\u001b[38;5;241m30\u001b[39m, hjust\u001b[38;5;241m=\u001b[39m\u001b[38;5;241m1\u001b[39m))\n",
      "\u001b[0;31mNameError\u001b[0m: name 'dd' is not defined"
     ]
    }
   ],
   "source": [
    "# Change the 4 \"dd\"s to \"gg\"\n",
    "+ dd.theme_bw()\n",
    "+ dd.theme(figure_size=(10,6))\n",
    "+ dd.theme(axis_text_x=dd.element_text(angle=30, hjust=1))"
   ]
  },
  {
   "cell_type": "markdown",
   "id": "600f561c-2606-42b8-bb26-ca8413dbaaf6",
   "metadata": {},
   "source": [
    "---"
   ]
  },
  {
   "cell_type": "markdown",
   "id": "1c1e25ec-ae01-4cf1-8608-3b7e67047ce2",
   "metadata": {},
   "source": [
    "# Features"
   ]
  },
  {
   "cell_type": "markdown",
   "id": "562f0538-e1e8-45b0-b292-e11abc0e384b",
   "metadata": {},
   "source": [
    "## Execute Terminal Commands in host system"
   ]
  },
  {
   "cell_type": "code",
   "execution_count": null,
   "id": "39e7a2d9-d087-408d-8769-0a794f37cb93",
   "metadata": {},
   "outputs": [],
   "source": [
    "! ls"
   ]
  },
  {
   "cell_type": "code",
   "execution_count": null,
   "id": "aaeb182b-4113-47ac-b781-84adf8750481",
   "metadata": {},
   "outputs": [],
   "source": [
    "%%bash\n",
    "#Unix hosts only\n",
    "ls"
   ]
  },
  {
   "cell_type": "markdown",
   "id": "21eec6a0-7e7b-40bb-b511-66de629e02c2",
   "metadata": {},
   "source": [
    "### Jupytext Extension\n",
    "\n",
    "Pair the notebook with a \"lightscript\" file. Lightscript is can be executed like a python script file (.py) but also contains all the info needed to be reconstituted into a jupyter notebook. It strips out non-content metadata in the process, so lightscript files are a good choice to use with github (the file differences will only be actual differences in content). \n",
    "\n",
    "With lightscript, you can also tag individual cells to be active/inactive only in certain formats. This is useful when you are writing a notebook that uses special notebook-only features that should also be runnable as a script.\n",
    "\n",
    "Use the *Pair Notebook with Lightscript* command in *View > Activate Command Palette*. \n",
    "\n",
    "Refer to the Jupytext Manual [https://jupytext.readthedocs.io/en/latest/install.html](https://jupytext.readthedocs.io/en/latest/install.html) for more details."
   ]
  },
  {
   "cell_type": "code",
   "execution_count": null,
   "id": "d81f81f0-2600-42a0-bebf-57286f842ad1",
   "metadata": {},
   "outputs": [],
   "source": []
  },
  {
   "cell_type": "code",
   "execution_count": null,
   "id": "046469dd-0157-4b3a-9f2b-913c593e076a",
   "metadata": {},
   "outputs": [],
   "source": []
  },
  {
   "cell_type": "markdown",
   "id": "e8f185b8-c267-41bf-98a7-2f8eb6b7b07d",
   "metadata": {},
   "source": [
    "### TQDM\n",
    "\n",
    "A popular progress bar tool integrated with many data science packages."
   ]
  },
  {
   "cell_type": "code",
   "execution_count": null,
   "id": "d16ead9b-7283-4f5f-8139-d3d4a7b18ab1",
   "metadata": {
    "tags": [
     "active-ipynb"
    ]
   },
   "outputs": [],
   "source": [
    "# has active-ipynb tag\n",
    "from tqdm.notebook import tqdm"
   ]
  },
  {
   "cell_type": "raw",
   "id": "161efaf1",
   "metadata": {
    "tags": [
     "active-py"
    ]
   },
   "source": [
    "# has active-py tag\n",
    "from tqdm import tqdm"
   ]
  },
  {
   "cell_type": "code",
   "execution_count": null,
   "id": "bab17d53-6305-4bb5-a037-ba15227fb18e",
   "metadata": {},
   "outputs": [],
   "source": [
    "import time\n",
    "\n",
    "for i in tqdm(range(20)):\n",
    "    time.sleep(.5)"
   ]
  },
  {
   "cell_type": "markdown",
   "id": "1ea191cc-e686-4ded-adc6-3acc08a7b3d0",
   "metadata": {},
   "source": [
    "### Time and Timeit cell magics"
   ]
  },
  {
   "cell_type": "code",
   "execution_count": null,
   "id": "ba216638-6545-480a-8047-1106ad9c24c3",
   "metadata": {},
   "outputs": [],
   "source": [
    "%%time\n",
    "for i in tqdm(range(20)):\n",
    "    time.sleep(.5)"
   ]
  },
  {
   "cell_type": "code",
   "execution_count": null,
   "id": "10f48232-00db-4e84-b9a0-d81d31098bde",
   "metadata": {},
   "outputs": [],
   "source": [
    "%%timeit\n",
    "sum(x**2 for x in range(1,100000,10))"
   ]
  },
  {
   "cell_type": "markdown",
   "id": "073c4bac-042c-45dc-b6fd-52f84627386c",
   "metadata": {},
   "source": [
    "### Jupyter Widgets\n",
    "\n",
    "Widgets are a collection of simple interactive elements that can be used to create a GUI in Jupyter. \n",
    "\n",
    "Uses:\n",
    "\n",
    "- enhance teaching and communication\n",
    "- support specialized interactive data analysis\n",
    "- create simple interfaces for human coding tasks like tagging, sorting, ranking or classifying.  \n",
    "\n",
    "\n",
    "https://ipywidgets.readthedocs.io/en/stable/lite/lab/"
   ]
  },
  {
   "cell_type": "code",
   "execution_count": null,
   "id": "6e36dd9c-3864-4a35-b846-77eb6b0d134b",
   "metadata": {},
   "outputs": [],
   "source": [
    "import ipywidgets as widgets\n",
    "from IPython.display import display"
   ]
  },
  {
   "cell_type": "code",
   "execution_count": null,
   "id": "3c1c89c0-7d4b-4e9c-a604-b77a902b41df",
   "metadata": {},
   "outputs": [],
   "source": [
    "date_w = widgets.DatetimePicker(\n",
    "    description='Pick a Time',\n",
    "    disabled=False\n",
    ")\n",
    "display(date_w)"
   ]
  },
  {
   "cell_type": "code",
   "execution_count": null,
   "id": "788eee02-a4bb-4814-8dd8-f75e193b03fc",
   "metadata": {},
   "outputs": [],
   "source": [
    "print(date_w.value)"
   ]
  },
  {
   "cell_type": "code",
   "execution_count": null,
   "id": "d81f8688-7413-4eb0-8f85-7adcda00f4d4",
   "metadata": {},
   "outputs": [],
   "source": []
  }
 ],
 "metadata": {
  "jupytext": {
   "formats": "ipynb,py:light"
  },
  "kernelspec": {
   "display_name": "Python 3 (ipykernel)",
   "language": "python",
   "name": "python3"
  },
  "language_info": {
   "codemirror_mode": {
    "name": "ipython",
    "version": 3
   },
   "file_extension": ".py",
   "mimetype": "text/x-python",
   "name": "python",
   "nbconvert_exporter": "python",
   "pygments_lexer": "ipython3",
   "version": "3.11.0"
  },
  "toc-autonumbering": false,
  "toc-showcode": false,
  "toc-showmarkdowntxt": false,
  "toc-showtags": false
 },
 "nbformat": 4,
 "nbformat_minor": 5
}
